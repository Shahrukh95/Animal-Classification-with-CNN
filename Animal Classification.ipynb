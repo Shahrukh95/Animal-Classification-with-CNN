        "  X=data.drop('label', axis=1)\n",
            "  X=data.drop('label', axis=1)\n"
            "  X=data.drop('label', axis=1)\n"
        "X_train=train.drop('label', axis=1)\n",
        "X_test=test.drop('label', axis=1)\n",
            "  X_train=train.drop('label', axis=1)\n",
            "  X_test=test.drop('label', axis=1)\n"
